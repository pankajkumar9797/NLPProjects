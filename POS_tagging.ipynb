{
 "cells": [
  {
   "cell_type": "markdown",
   "metadata": {},
   "source": [
    "## Identifying Parts of Speech using the hidden markov model"
   ]
  },
  {
   "cell_type": "code",
   "execution_count": 2,
   "metadata": {},
   "outputs": [],
   "source": [
    "import nltk, re, pprint\n",
    "import numpy as np\n",
    "import pandas as pd\n",
    "import requests\n",
    "import matplotlib.pyplot as plt\n",
    "import seaborn as sns\n",
    "import time\n",
    "import random\n",
    "from sklearn.model_selection import train_test_split\n",
    "from nltk.tokenize import word_tokenize\n",
    "import codecs"
   ]
  },
  {
   "cell_type": "markdown",
   "metadata": {},
   "source": [
    "NLTK Treebank uses regular expressions for tokenizing the text. It can be invoked using the word_tokenize.\n",
    "``don't`` -> ``do n't`` and ``they'll`` -> ``they 'll``"
   ]
  },
  {
   "cell_type": "code",
   "execution_count": 3,
   "metadata": {},
   "outputs": [
    {
     "name": "stderr",
     "output_type": "stream",
     "text": [
      "[nltk_data] Downloading package treebank to\n",
      "[nltk_data]     C:\\Users\\80234\\AppData\\Roaming\\nltk_data...\n",
      "[nltk_data]   Package treebank is already up-to-date!\n"
     ]
    },
    {
     "data": {
      "text/plain": [
       "True"
      ]
     },
     "execution_count": 3,
     "metadata": {},
     "output_type": "execute_result"
    }
   ],
   "source": [
    "nltk.download('treebank')"
   ]
  },
  {
   "cell_type": "markdown",
   "metadata": {},
   "source": [
    "Downloading the dataset of parts of speech using the NLTK library"
   ]
  },
  {
   "cell_type": "code",
   "execution_count": 4,
   "metadata": {},
   "outputs": [
    {
     "name": "stderr",
     "output_type": "stream",
     "text": [
      "[nltk_data] Downloading package universal_tagset to\n",
      "[nltk_data]     C:\\Users\\80234\\AppData\\Roaming\\nltk_data...\n",
      "[nltk_data]   Package universal_tagset is already up-to-date!\n"
     ]
    },
    {
     "data": {
      "text/plain": [
       "True"
      ]
     },
     "execution_count": 4,
     "metadata": {},
     "output_type": "execute_result"
    }
   ],
   "source": [
    "nltk.download('universal_tagset')"
   ]
  },
  {
   "cell_type": "code",
   "execution_count": 5,
   "metadata": {},
   "outputs": [],
   "source": [
    "nltk_data = list(nltk.corpus.treebank.tagged_sents(tagset='universal'))"
   ]
  },
  {
   "cell_type": "code",
   "execution_count": 6,
   "metadata": {},
   "outputs": [
    {
     "data": {
      "text/plain": [
       "[[('Pierre', 'NOUN'),\n",
       "  ('Vinken', 'NOUN'),\n",
       "  (',', '.'),\n",
       "  ('61', 'NUM'),\n",
       "  ('years', 'NOUN'),\n",
       "  ('old', 'ADJ'),\n",
       "  (',', '.'),\n",
       "  ('will', 'VERB'),\n",
       "  ('join', 'VERB'),\n",
       "  ('the', 'DET'),\n",
       "  ('board', 'NOUN'),\n",
       "  ('as', 'ADP'),\n",
       "  ('a', 'DET'),\n",
       "  ('nonexecutive', 'ADJ'),\n",
       "  ('director', 'NOUN'),\n",
       "  ('Nov.', 'NOUN'),\n",
       "  ('29', 'NUM'),\n",
       "  ('.', '.')],\n",
       " [('Mr.', 'NOUN'),\n",
       "  ('Vinken', 'NOUN'),\n",
       "  ('is', 'VERB'),\n",
       "  ('chairman', 'NOUN'),\n",
       "  ('of', 'ADP'),\n",
       "  ('Elsevier', 'NOUN'),\n",
       "  ('N.V.', 'NOUN'),\n",
       "  (',', '.'),\n",
       "  ('the', 'DET'),\n",
       "  ('Dutch', 'NOUN'),\n",
       "  ('publishing', 'VERB'),\n",
       "  ('group', 'NOUN'),\n",
       "  ('.', '.')],\n",
       " [('Rudolph', 'NOUN'),\n",
       "  ('Agnew', 'NOUN'),\n",
       "  (',', '.'),\n",
       "  ('55', 'NUM'),\n",
       "  ('years', 'NOUN'),\n",
       "  ('old', 'ADJ'),\n",
       "  ('and', 'CONJ'),\n",
       "  ('former', 'ADJ'),\n",
       "  ('chairman', 'NOUN'),\n",
       "  ('of', 'ADP'),\n",
       "  ('Consolidated', 'NOUN'),\n",
       "  ('Gold', 'NOUN'),\n",
       "  ('Fields', 'NOUN'),\n",
       "  ('PLC', 'NOUN'),\n",
       "  (',', '.'),\n",
       "  ('was', 'VERB'),\n",
       "  ('named', 'VERB'),\n",
       "  ('*-1', 'X'),\n",
       "  ('a', 'DET'),\n",
       "  ('nonexecutive', 'ADJ'),\n",
       "  ('director', 'NOUN'),\n",
       "  ('of', 'ADP'),\n",
       "  ('this', 'DET'),\n",
       "  ('British', 'ADJ'),\n",
       "  ('industrial', 'ADJ'),\n",
       "  ('conglomerate', 'NOUN'),\n",
       "  ('.', '.')],\n",
       " [('A', 'DET'),\n",
       "  ('form', 'NOUN'),\n",
       "  ('of', 'ADP'),\n",
       "  ('asbestos', 'NOUN'),\n",
       "  ('once', 'ADV'),\n",
       "  ('used', 'VERB'),\n",
       "  ('*', 'X'),\n",
       "  ('*', 'X'),\n",
       "  ('to', 'PRT'),\n",
       "  ('make', 'VERB'),\n",
       "  ('Kent', 'NOUN'),\n",
       "  ('cigarette', 'NOUN'),\n",
       "  ('filters', 'NOUN'),\n",
       "  ('has', 'VERB'),\n",
       "  ('caused', 'VERB'),\n",
       "  ('a', 'DET'),\n",
       "  ('high', 'ADJ'),\n",
       "  ('percentage', 'NOUN'),\n",
       "  ('of', 'ADP'),\n",
       "  ('cancer', 'NOUN'),\n",
       "  ('deaths', 'NOUN'),\n",
       "  ('among', 'ADP'),\n",
       "  ('a', 'DET'),\n",
       "  ('group', 'NOUN'),\n",
       "  ('of', 'ADP'),\n",
       "  ('workers', 'NOUN'),\n",
       "  ('exposed', 'VERB'),\n",
       "  ('*', 'X'),\n",
       "  ('to', 'PRT'),\n",
       "  ('it', 'PRON'),\n",
       "  ('more', 'ADV'),\n",
       "  ('than', 'ADP'),\n",
       "  ('30', 'NUM'),\n",
       "  ('years', 'NOUN'),\n",
       "  ('ago', 'ADP'),\n",
       "  (',', '.'),\n",
       "  ('researchers', 'NOUN'),\n",
       "  ('reported', 'VERB'),\n",
       "  ('0', 'X'),\n",
       "  ('*T*-1', 'X'),\n",
       "  ('.', '.')],\n",
       " [('The', 'DET'),\n",
       "  ('asbestos', 'NOUN'),\n",
       "  ('fiber', 'NOUN'),\n",
       "  (',', '.'),\n",
       "  ('crocidolite', 'NOUN'),\n",
       "  (',', '.'),\n",
       "  ('is', 'VERB'),\n",
       "  ('unusually', 'ADV'),\n",
       "  ('resilient', 'ADJ'),\n",
       "  ('once', 'ADP'),\n",
       "  ('it', 'PRON'),\n",
       "  ('enters', 'VERB'),\n",
       "  ('the', 'DET'),\n",
       "  ('lungs', 'NOUN'),\n",
       "  (',', '.'),\n",
       "  ('with', 'ADP'),\n",
       "  ('even', 'ADV'),\n",
       "  ('brief', 'ADJ'),\n",
       "  ('exposures', 'NOUN'),\n",
       "  ('to', 'PRT'),\n",
       "  ('it', 'PRON'),\n",
       "  ('causing', 'VERB'),\n",
       "  ('symptoms', 'NOUN'),\n",
       "  ('that', 'DET'),\n",
       "  ('*T*-1', 'X'),\n",
       "  ('show', 'VERB'),\n",
       "  ('up', 'PRT'),\n",
       "  ('decades', 'NOUN'),\n",
       "  ('later', 'ADJ'),\n",
       "  (',', '.'),\n",
       "  ('researchers', 'NOUN'),\n",
       "  ('said', 'VERB'),\n",
       "  ('0', 'X'),\n",
       "  ('*T*-2', 'X'),\n",
       "  ('.', '.')],\n",
       " [('Lorillard', 'NOUN'),\n",
       "  ('Inc.', 'NOUN'),\n",
       "  (',', '.'),\n",
       "  ('the', 'DET'),\n",
       "  ('unit', 'NOUN'),\n",
       "  ('of', 'ADP'),\n",
       "  ('New', 'ADJ'),\n",
       "  ('York-based', 'ADJ'),\n",
       "  ('Loews', 'NOUN'),\n",
       "  ('Corp.', 'NOUN'),\n",
       "  ('that', 'DET'),\n",
       "  ('*T*-2', 'X'),\n",
       "  ('makes', 'VERB'),\n",
       "  ('Kent', 'NOUN'),\n",
       "  ('cigarettes', 'NOUN'),\n",
       "  (',', '.'),\n",
       "  ('stopped', 'VERB'),\n",
       "  ('using', 'VERB'),\n",
       "  ('crocidolite', 'NOUN'),\n",
       "  ('in', 'ADP'),\n",
       "  ('its', 'PRON'),\n",
       "  ('Micronite', 'NOUN'),\n",
       "  ('cigarette', 'NOUN'),\n",
       "  ('filters', 'NOUN'),\n",
       "  ('in', 'ADP'),\n",
       "  ('1956', 'NUM'),\n",
       "  ('.', '.')],\n",
       " [('Although', 'ADP'),\n",
       "  ('preliminary', 'ADJ'),\n",
       "  ('findings', 'NOUN'),\n",
       "  ('were', 'VERB'),\n",
       "  ('reported', 'VERB'),\n",
       "  ('*-2', 'X'),\n",
       "  ('more', 'ADV'),\n",
       "  ('than', 'ADP'),\n",
       "  ('a', 'DET'),\n",
       "  ('year', 'NOUN'),\n",
       "  ('ago', 'ADP'),\n",
       "  (',', '.'),\n",
       "  ('the', 'DET'),\n",
       "  ('latest', 'ADJ'),\n",
       "  ('results', 'NOUN'),\n",
       "  ('appear', 'VERB'),\n",
       "  ('in', 'ADP'),\n",
       "  ('today', 'NOUN'),\n",
       "  (\"'s\", 'PRT'),\n",
       "  ('New', 'NOUN'),\n",
       "  ('England', 'NOUN'),\n",
       "  ('Journal', 'NOUN'),\n",
       "  ('of', 'ADP'),\n",
       "  ('Medicine', 'NOUN'),\n",
       "  (',', '.'),\n",
       "  ('a', 'DET'),\n",
       "  ('forum', 'NOUN'),\n",
       "  ('likely', 'ADJ'),\n",
       "  ('*', 'X'),\n",
       "  ('to', 'PRT'),\n",
       "  ('bring', 'VERB'),\n",
       "  ('new', 'ADJ'),\n",
       "  ('attention', 'NOUN'),\n",
       "  ('to', 'PRT'),\n",
       "  ('the', 'DET'),\n",
       "  ('problem', 'NOUN'),\n",
       "  ('.', '.')],\n",
       " [('A', 'DET'),\n",
       "  ('Lorillard', 'NOUN'),\n",
       "  ('spokewoman', 'NOUN'),\n",
       "  ('said', 'VERB'),\n",
       "  (',', '.'),\n",
       "  ('``', '.'),\n",
       "  ('This', 'DET'),\n",
       "  ('is', 'VERB'),\n",
       "  ('an', 'DET'),\n",
       "  ('old', 'ADJ'),\n",
       "  ('story', 'NOUN'),\n",
       "  ('.', '.')],\n",
       " [('We', 'PRON'),\n",
       "  (\"'re\", 'VERB'),\n",
       "  ('talking', 'VERB'),\n",
       "  ('about', 'ADP'),\n",
       "  ('years', 'NOUN'),\n",
       "  ('ago', 'ADP'),\n",
       "  ('before', 'ADP'),\n",
       "  ('anyone', 'NOUN'),\n",
       "  ('heard', 'VERB'),\n",
       "  ('of', 'ADP'),\n",
       "  ('asbestos', 'NOUN'),\n",
       "  ('having', 'VERB'),\n",
       "  ('any', 'DET'),\n",
       "  ('questionable', 'ADJ'),\n",
       "  ('properties', 'NOUN'),\n",
       "  ('.', '.')],\n",
       " [('There', 'DET'),\n",
       "  ('is', 'VERB'),\n",
       "  ('no', 'DET'),\n",
       "  ('asbestos', 'NOUN'),\n",
       "  ('in', 'ADP'),\n",
       "  ('our', 'PRON'),\n",
       "  ('products', 'NOUN'),\n",
       "  ('now', 'ADV'),\n",
       "  ('.', '.'),\n",
       "  (\"''\", '.')]]"
      ]
     },
     "execution_count": 6,
     "metadata": {},
     "output_type": "execute_result"
    }
   ],
   "source": [
    "nltk_data[:10] # Looking at the first 10 sentences consisting of tagged words"
   ]
  },
  {
   "cell_type": "code",
   "execution_count": 7,
   "metadata": {},
   "outputs": [
    {
     "name": "stdout",
     "output_type": "stream",
     "text": [
      "train set length: 3718, test set length: 196\n"
     ]
    }
   ],
   "source": [
    "# setting up the random seed, split the dataset into training and the test set\n",
    "random.seed(123)\n",
    "train_set, test_set = train_test_split(nltk_data, train_size=0.95)\n",
    "print(f\"train set length: {len(train_set)}, test set length: {len(test_set)}\")"
   ]
  },
  {
   "cell_type": "code",
   "execution_count": 8,
   "metadata": {},
   "outputs": [],
   "source": [
    "# Lets put all the tupples inside a single list\n",
    "train_tagged_words = [tupple for sent in train_set for tupple in sent]"
   ]
  },
  {
   "cell_type": "code",
   "execution_count": 9,
   "metadata": {},
   "outputs": [],
   "source": [
    "# Put all the words inside another list\n",
    "tokens = [pair[0] for pair in train_tagged_words]"
   ]
  },
  {
   "cell_type": "code",
   "execution_count": 10,
   "metadata": {},
   "outputs": [
    {
     "name": "stdout",
     "output_type": "stream",
     "text": [
      "number of all words: 12123\n"
     ]
    }
   ],
   "source": [
    "# Create the set, consisting of all the unique words, later it will be used for creating emission and transition matrix\n",
    "V = set(tokens)\n",
    "print(f\"number of all words: {len(V)}\")"
   ]
  },
  {
   "cell_type": "code",
   "execution_count": 11,
   "metadata": {},
   "outputs": [
    {
     "name": "stdout",
     "output_type": "stream",
     "text": [
      "All tagging words are: {'ADV', 'X', 'ADP', 'PRON', 'NUM', 'VERB', 'DET', '.', 'NOUN', 'ADJ', 'CONJ', 'PRT'}\n"
     ]
    }
   ],
   "source": [
    "T = set([pair[1] for pair in train_tagged_words])\n",
    "print(f\"All tagging words are: {T}\")"
   ]
  },
  {
   "cell_type": "markdown",
   "metadata": {},
   "source": [
    "### Build the POS tagger using the Vanilla Viterbi\n",
    "\n",
    "create the probability matrix for emission (between the hidden states and the observations) \n",
    "and transition states (probability of getting the \"verb\" tag if the previous tag is \"Noun\"). \n",
    "Using the probability matrix for both emission and the transition states, we can find the \n",
    "tag based on the maximum probability (given the present word and the tag of the previous word), \n",
    "we can find the most likely tag for the present word.\n",
    "\n",
    "p_max = max(emission probability x transition probability)  #maximum probability"
   ]
  },
  {
   "cell_type": "code",
   "execution_count": 12,
   "metadata": {},
   "outputs": [],
   "source": [
    "# Create the numpy array of number of pos tags by total vocabulary\n",
    "t = len(T)\n",
    "v = len(V)\n",
    "w_given_t = np.zeros((t, v))"
   ]
  },
  {
   "cell_type": "code",
   "execution_count": 13,
   "metadata": {},
   "outputs": [],
   "source": [
    "# computing the count of the occurance of the word with a known tag\n",
    "# This function will be used for calculating the emission matrix\n",
    "\n",
    "def word_given_tag(word, tag, train_bag = train_tagged_words):\n",
    "    # count words\n",
    "    w_given_tag_list = [pair[0] for pair in train_bag if pair[0] == word]\n",
    "    count_w_given_tag_list = len(w_given_tag_list)\n",
    "    # count tags\n",
    "    tag_list = [pair[1] for pair in train_bag if pair[1] == tag]\n",
    "    count_tag = len(tag_list)\n",
    "    return (count_w_given_tag_list, count_tag)\n",
    "\n",
    "# computing the counts of tag2 given tag1 occurs in the previous index\n",
    "# function below will be used for calculating the transition matrix\n",
    "\n",
    "def tag2_given_tag1(tag2, tag1, train_bag=train_tagged_words):\n",
    "    tags = [pair[1] for pair in train_bag]\n",
    "    count_tag1 = len([tag for tag in tags if tag == tag1])\n",
    "    count_tag2_given_tag1 = 0\n",
    "    for idx in range(len(tags)-1):\n",
    "        if tags[idx] == tag1 and tags[idx+1] == tag2:\n",
    "            count_tag2_given_tag1 += 1\n",
    "    return (count_tag2_given_tag1, count_tag1)"
   ]
  },
  {
   "cell_type": "code",
   "execution_count": 14,
   "metadata": {},
   "outputs": [],
   "source": [
    "# Computing the Transition probability, given the previous tag\n",
    "\n",
    "tags_transition_matrix = np.zeros((len(T), len(T)), dtype='float32')\n",
    "for i, tag1 in enumerate(list(T)):\n",
    "    for j, tag2 in enumerate(list(T)):\n",
    "        result = tag2_given_tag1(tag2, tag1)\n",
    "        tags_transition_matrix[i, j] = result[0]/result[1] "
   ]
  },
  {
   "cell_type": "markdown",
   "metadata": {},
   "source": [
    "tags_transition_matrix[i, j] represents the probability of occurance of $T_{j}$ given $T_{i}$"
   ]
  },
  {
   "cell_type": "code",
   "execution_count": 15,
   "metadata": {},
   "outputs": [
    {
     "data": {
      "text/html": [
       "<div>\n",
       "<style scoped>\n",
       "    .dataframe tbody tr th:only-of-type {\n",
       "        vertical-align: middle;\n",
       "    }\n",
       "\n",
       "    .dataframe tbody tr th {\n",
       "        vertical-align: top;\n",
       "    }\n",
       "\n",
       "    .dataframe thead th {\n",
       "        text-align: right;\n",
       "    }\n",
       "</style>\n",
       "<table border=\"1\" class=\"dataframe\">\n",
       "  <thead>\n",
       "    <tr style=\"text-align: right;\">\n",
       "      <th></th>\n",
       "      <th>ADV</th>\n",
       "      <th>X</th>\n",
       "      <th>ADP</th>\n",
       "      <th>PRON</th>\n",
       "      <th>NUM</th>\n",
       "      <th>VERB</th>\n",
       "      <th>DET</th>\n",
       "      <th>.</th>\n",
       "      <th>NOUN</th>\n",
       "      <th>ADJ</th>\n",
       "      <th>CONJ</th>\n",
       "      <th>PRT</th>\n",
       "    </tr>\n",
       "  </thead>\n",
       "  <tbody>\n",
       "    <tr>\n",
       "      <th>ADV</th>\n",
       "      <td>0.080079</td>\n",
       "      <td>0.022502</td>\n",
       "      <td>0.119457</td>\n",
       "      <td>0.015222</td>\n",
       "      <td>0.031436</td>\n",
       "      <td>0.343481</td>\n",
       "      <td>0.068498</td>\n",
       "      <td>0.137988</td>\n",
       "      <td>0.032098</td>\n",
       "      <td>0.129385</td>\n",
       "      <td>0.006949</td>\n",
       "      <td>0.012905</td>\n",
       "    </tr>\n",
       "    <tr>\n",
       "      <th>X</th>\n",
       "      <td>0.025539</td>\n",
       "      <td>0.076777</td>\n",
       "      <td>0.142132</td>\n",
       "      <td>0.055044</td>\n",
       "      <td>0.002697</td>\n",
       "      <td>0.203997</td>\n",
       "      <td>0.054727</td>\n",
       "      <td>0.165451</td>\n",
       "      <td>0.062341</td>\n",
       "      <td>0.017291</td>\n",
       "      <td>0.010470</td>\n",
       "      <td>0.183534</td>\n",
       "    </tr>\n",
       "    <tr>\n",
       "      <th>ADP</th>\n",
       "      <td>0.013589</td>\n",
       "      <td>0.034132</td>\n",
       "      <td>0.017120</td>\n",
       "      <td>0.069013</td>\n",
       "      <td>0.061738</td>\n",
       "      <td>0.008560</td>\n",
       "      <td>0.324952</td>\n",
       "      <td>0.040017</td>\n",
       "      <td>0.322598</td>\n",
       "      <td>0.106035</td>\n",
       "      <td>0.000856</td>\n",
       "      <td>0.001391</td>\n",
       "    </tr>\n",
       "    <tr>\n",
       "      <th>PRON</th>\n",
       "      <td>0.033885</td>\n",
       "      <td>0.094340</td>\n",
       "      <td>0.021563</td>\n",
       "      <td>0.007701</td>\n",
       "      <td>0.007316</td>\n",
       "      <td>0.485175</td>\n",
       "      <td>0.009241</td>\n",
       "      <td>0.041586</td>\n",
       "      <td>0.209858</td>\n",
       "      <td>0.072006</td>\n",
       "      <td>0.005391</td>\n",
       "      <td>0.011937</td>\n",
       "    </tr>\n",
       "    <tr>\n",
       "      <th>NUM</th>\n",
       "      <td>0.002705</td>\n",
       "      <td>0.212504</td>\n",
       "      <td>0.033965</td>\n",
       "      <td>0.001503</td>\n",
       "      <td>0.185152</td>\n",
       "      <td>0.018335</td>\n",
       "      <td>0.003607</td>\n",
       "      <td>0.114818</td>\n",
       "      <td>0.353171</td>\n",
       "      <td>0.032762</td>\n",
       "      <td>0.013225</td>\n",
       "      <td>0.028254</td>\n",
       "    </tr>\n",
       "    <tr>\n",
       "      <th>VERB</th>\n",
       "      <td>0.081918</td>\n",
       "      <td>0.219068</td>\n",
       "      <td>0.091614</td>\n",
       "      <td>0.035063</td>\n",
       "      <td>0.022729</td>\n",
       "      <td>0.169808</td>\n",
       "      <td>0.133039</td>\n",
       "      <td>0.034831</td>\n",
       "      <td>0.110465</td>\n",
       "      <td>0.065007</td>\n",
       "      <td>0.005275</td>\n",
       "      <td>0.031185</td>\n",
       "    </tr>\n",
       "    <tr>\n",
       "      <th>DET</th>\n",
       "      <td>0.012559</td>\n",
       "      <td>0.045647</td>\n",
       "      <td>0.009178</td>\n",
       "      <td>0.003623</td>\n",
       "      <td>0.022099</td>\n",
       "      <td>0.039126</td>\n",
       "      <td>0.005555</td>\n",
       "      <td>0.017510</td>\n",
       "      <td>0.638329</td>\n",
       "      <td>0.205651</td>\n",
       "      <td>0.000483</td>\n",
       "      <td>0.000242</td>\n",
       "    </tr>\n",
       "    <tr>\n",
       "      <th>.</th>\n",
       "      <td>0.052688</td>\n",
       "      <td>0.026928</td>\n",
       "      <td>0.091823</td>\n",
       "      <td>0.066242</td>\n",
       "      <td>0.079975</td>\n",
       "      <td>0.089040</td>\n",
       "      <td>0.173773</td>\n",
       "      <td>0.093169</td>\n",
       "      <td>0.221793</td>\n",
       "      <td>0.044161</td>\n",
       "      <td>0.057984</td>\n",
       "      <td>0.002334</td>\n",
       "    </tr>\n",
       "    <tr>\n",
       "      <th>NOUN</th>\n",
       "      <td>0.017212</td>\n",
       "      <td>0.028917</td>\n",
       "      <td>0.176421</td>\n",
       "      <td>0.004777</td>\n",
       "      <td>0.009007</td>\n",
       "      <td>0.147322</td>\n",
       "      <td>0.013128</td>\n",
       "      <td>0.239689</td>\n",
       "      <td>0.264887</td>\n",
       "      <td>0.012107</td>\n",
       "      <td>0.042592</td>\n",
       "      <td>0.043941</td>\n",
       "    </tr>\n",
       "    <tr>\n",
       "      <th>ADJ</th>\n",
       "      <td>0.004778</td>\n",
       "      <td>0.021252</td>\n",
       "      <td>0.078089</td>\n",
       "      <td>0.000659</td>\n",
       "      <td>0.019934</td>\n",
       "      <td>0.011038</td>\n",
       "      <td>0.004613</td>\n",
       "      <td>0.066392</td>\n",
       "      <td>0.698847</td>\n",
       "      <td>0.066886</td>\n",
       "      <td>0.016969</td>\n",
       "      <td>0.010544</td>\n",
       "    </tr>\n",
       "    <tr>\n",
       "      <th>CONJ</th>\n",
       "      <td>0.054884</td>\n",
       "      <td>0.007442</td>\n",
       "      <td>0.049767</td>\n",
       "      <td>0.057674</td>\n",
       "      <td>0.042326</td>\n",
       "      <td>0.155814</td>\n",
       "      <td>0.120000</td>\n",
       "      <td>0.036279</td>\n",
       "      <td>0.352558</td>\n",
       "      <td>0.117674</td>\n",
       "      <td>0.000465</td>\n",
       "      <td>0.005116</td>\n",
       "    </tr>\n",
       "    <tr>\n",
       "      <th>PRT</th>\n",
       "      <td>0.009508</td>\n",
       "      <td>0.013443</td>\n",
       "      <td>0.020000</td>\n",
       "      <td>0.018033</td>\n",
       "      <td>0.058033</td>\n",
       "      <td>0.399672</td>\n",
       "      <td>0.102295</td>\n",
       "      <td>0.042951</td>\n",
       "      <td>0.246885</td>\n",
       "      <td>0.084918</td>\n",
       "      <td>0.002295</td>\n",
       "      <td>0.001967</td>\n",
       "    </tr>\n",
       "  </tbody>\n",
       "</table>\n",
       "</div>"
      ],
      "text/plain": [
       "           ADV         X       ADP      PRON       NUM      VERB       DET  \\\n",
       "ADV   0.080079  0.022502  0.119457  0.015222  0.031436  0.343481  0.068498   \n",
       "X     0.025539  0.076777  0.142132  0.055044  0.002697  0.203997  0.054727   \n",
       "ADP   0.013589  0.034132  0.017120  0.069013  0.061738  0.008560  0.324952   \n",
       "PRON  0.033885  0.094340  0.021563  0.007701  0.007316  0.485175  0.009241   \n",
       "NUM   0.002705  0.212504  0.033965  0.001503  0.185152  0.018335  0.003607   \n",
       "VERB  0.081918  0.219068  0.091614  0.035063  0.022729  0.169808  0.133039   \n",
       "DET   0.012559  0.045647  0.009178  0.003623  0.022099  0.039126  0.005555   \n",
       ".     0.052688  0.026928  0.091823  0.066242  0.079975  0.089040  0.173773   \n",
       "NOUN  0.017212  0.028917  0.176421  0.004777  0.009007  0.147322  0.013128   \n",
       "ADJ   0.004778  0.021252  0.078089  0.000659  0.019934  0.011038  0.004613   \n",
       "CONJ  0.054884  0.007442  0.049767  0.057674  0.042326  0.155814  0.120000   \n",
       "PRT   0.009508  0.013443  0.020000  0.018033  0.058033  0.399672  0.102295   \n",
       "\n",
       "             .      NOUN       ADJ      CONJ       PRT  \n",
       "ADV   0.137988  0.032098  0.129385  0.006949  0.012905  \n",
       "X     0.165451  0.062341  0.017291  0.010470  0.183534  \n",
       "ADP   0.040017  0.322598  0.106035  0.000856  0.001391  \n",
       "PRON  0.041586  0.209858  0.072006  0.005391  0.011937  \n",
       "NUM   0.114818  0.353171  0.032762  0.013225  0.028254  \n",
       "VERB  0.034831  0.110465  0.065007  0.005275  0.031185  \n",
       "DET   0.017510  0.638329  0.205651  0.000483  0.000242  \n",
       ".     0.093169  0.221793  0.044161  0.057984  0.002334  \n",
       "NOUN  0.239689  0.264887  0.012107  0.042592  0.043941  \n",
       "ADJ   0.066392  0.698847  0.066886  0.016969  0.010544  \n",
       "CONJ  0.036279  0.352558  0.117674  0.000465  0.005116  \n",
       "PRT   0.042951  0.246885  0.084918  0.002295  0.001967  "
      ]
     },
     "execution_count": 15,
     "metadata": {},
     "output_type": "execute_result"
    }
   ],
   "source": [
    "tags_transition_df = pd.DataFrame(tags_transition_matrix, columns=list(T), index=list(T))\n",
    "tags_transition_df"
   ]
  },
  {
   "cell_type": "code",
   "execution_count": 16,
   "metadata": {},
   "outputs": [
    {
     "data": {
      "image/png": "[encoded data removed]",
      "text/plain": [
       "<Figure size 1152x720 with 2 Axes>"
      ]
     },
     "metadata": {
      "needs_background": "light"
     },
     "output_type": "display_data"
    }
   ],
   "source": [
    "# Lets look at the heatmap of the matrix\n",
    "plt.figure(figsize=(16, 10))\n",
    "sns.heatmap(tags_transition_df)\n",
    "plt.show()"
   ]
  },
  {
   "cell_type": "code",
   "execution_count": 17,
   "metadata": {},
   "outputs": [],
   "source": [
    "tags_frequent = tags_transition_df[tags_transition_df > 0.5]"
   ]
  },
  {
   "cell_type": "markdown",
   "metadata": {},
   "source": [
    "Above heat map clearly showe correlation between the occurance of nouns, adjectives and the determinant"
   ]
  },
  {
   "cell_type": "code",
   "execution_count": 18,
   "metadata": {},
   "outputs": [],
   "source": [
    "# Viterbi Heuristic\n",
    "def model(words, train_bag=train_tagged_words):\n",
    "    state=[]\n",
    "    T=list(set([pair[1] for pair in train_bag]))\n",
    "    for idx, word in enumerate(words):\n",
    "        # initialize list of probability column for a given observation\n",
    "        p=[]\n",
    "        for tag in T:\n",
    "            if idx==0:\n",
    "                transition_p=tags_transition_df.loc['.', tag]\n",
    "            else:\n",
    "                transition_p=tags_transition_df.loc[state[-1], tag]\n",
    "            \n",
    "            emission_count_word = word_given_tag(words[idx], tag)[0]\n",
    "            emission_count_tag = word_given_tag(words[idx], tag)[1]\n",
    "            emission_p = emission_count_word/emission_count_tag\n",
    "            \n",
    "            state_p = emission_p * transition_p\n",
    "            p.append(state_p)\n",
    "        p_max = max(p)\n",
    "        state_with_max_p = T[p.index(p_max)]\n",
    "        state.append(state_with_max_p)\n",
    "    return list(zip(words, state))"
   ]
  },
  {
   "cell_type": "code",
   "execution_count": null,
   "metadata": {},
   "outputs": [],
   "source": [
    "# test the algorithm on a few sample of sentences of test dataset\n",
    "\n",
    "test_run_base = [tupple for sent in test_set for tupple in sent]\n",
    "test_tagged_words = [tupple[0] for sent in test_set for tupple in sent]\n",
    "\n",
    "start = time.time()\n",
    "tagged_seq = model(test_tagged_words)\n",
    "end = time.time()\n",
    "\n",
    "print(f\"time taken for algorithm: {end-start}\")"
   ]
  },
  {
   "cell_type": "code",
   "execution_count": null,
   "metadata": {},
   "outputs": [],
   "source": [
    "# Calculate the accuracy of the model\n",
    "check = [i for i, j in zip(tagged_seq, test_run_base) if i == j]\n",
    "accuracy = len(check)/len(tagged_seq)\n",
    "print(accuracy)"
   ]
  },
  {
   "cell_type": "code",
   "execution_count": null,
   "metadata": {},
   "outputs": [],
   "source": [
    "tagged_seq"
   ]
  },
  {
   "cell_type": "code",
   "execution_count": null,
   "metadata": {},
   "outputs": [],
   "source": [
    "for i, j in zip(tagged_seq, test_run_base):\n",
    "    print(f\"i : {i}, j: {j}\")"
   ]
  },
  {
   "cell_type": "code",
   "execution_count": null,
   "metadata": {},
   "outputs": [],
   "source": [
    "for x in tagged_seq:\n",
    "    if x[1] == 'NOUN':\n",
    "        print(x)"
   ]
  },
  {
   "cell_type": "code",
   "execution_count": null,
   "metadata": {},
   "outputs": [],
   "source": []
  }
 ],
 "metadata": {
  "kernelspec": {
   "display_name": "Python 3",
   "language": "python",
   "name": "python3"
  },
  "language_info": {
   "codemirror_mode": {
    "name": "ipython",
    "version": 3
   },
   "file_extension": ".py",
   "mimetype": "text/x-python",
   "name": "python",
   "nbconvert_exporter": "python",
   "pygments_lexer": "ipython3",
   "version": "3.8.5"
  }
 },
 "nbformat": 4,
 "nbformat_minor": 4
}
