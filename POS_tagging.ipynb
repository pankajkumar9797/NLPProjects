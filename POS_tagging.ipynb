{
 "cells": [
  {
   "cell_type": "markdown",
   "metadata": {},
   "source": [
    "## Identifying Parts of Speech using the hidden markov model"
   ]
  },
  {
   "cell_type": "code",
   "execution_count": 1,
   "metadata": {},
   "outputs": [],
   "source": [
    "import nltk, re, pprint\n",
    "import numpy as np\n",
    "import pandas as pd\n",
    "import requests\n",
    "import matplotlib.pyplot as plt\n",
    "import seaborn as sns\n",
    "import time\n",
    "import random\n",
    "from sklearn.model_selection import train_test_split\n",
    "from nltk.tokenize import word_tokenize\n",
    "import codecs"
   ]
  },
  {
   "cell_type": "markdown",
   "metadata": {},
   "source": [
    "NLTK Treebank uses regular expressions for tokenizing the text. It can be invoked using the word_tokenize.\n",
    "``don't`` -> ``do n't`` and ``they'll`` -> ``they 'll``"
   ]
  },
  {
   "cell_type": "code",
   "execution_count": 2,
   "metadata": {},
   "outputs": [
    {
     "name": "stderr",
     "output_type": "stream",
     "text": [
      "[nltk_data] Downloading package treebank to\n",
      "[nltk_data]     C:\\Users\\panka\\AppData\\Roaming\\nltk_data...\n",
      "[nltk_data]   Package treebank is already up-to-date!\n"
     ]
    },
    {
     "data": {
      "text/plain": [
       "True"
      ]
     },
     "execution_count": 2,
     "metadata": {},
     "output_type": "execute_result"
    }
   ],
   "source": [
    "nltk.download('treebank')"
   ]
  },
  {
   "cell_type": "markdown",
   "metadata": {},
   "source": [
    "Downloading the dataset of parts of speech using the NLTK library"
   ]
  },
  {
   "cell_type": "code",
   "execution_count": 3,
   "metadata": {},
   "outputs": [
    {
     "name": "stderr",
     "output_type": "stream",
     "text": [
      "[nltk_data] Downloading package universal_tagset to\n",
      "[nltk_data]     C:\\Users\\panka\\AppData\\Roaming\\nltk_data...\n",
      "[nltk_data]   Package universal_tagset is already up-to-date!\n"
     ]
    },
    {
     "data": {
      "text/plain": [
       "True"
      ]
     },
     "execution_count": 3,
     "metadata": {},
     "output_type": "execute_result"
    }
   ],
   "source": [
    "nltk.download('universal_tagset')"
   ]
  },
  {
   "cell_type": "code",
   "execution_count": 4,
   "metadata": {},
   "outputs": [],
   "source": [
    "nltk_data = list(nltk.corpus.treebank.tagged_sents(tagset='universal'))"
   ]
  },
  {
   "cell_type": "code",
   "execution_count": 5,
   "metadata": {},
   "outputs": [
    {
     "name": "stdout",
     "output_type": "stream",
     "text": [
      "train set length: 3718, test set length: 196\n"
     ]
    }
   ],
   "source": [
    "# setting up the random seed, split the dataset into training and the test set\n",
    "train_set, test_set = train_test_split(nltk_data, train_size=0.95, random_state=101)\n",
    "print(f\"train set length: {len(train_set)}, test set length: {len(test_set)}\")"
   ]
  },
  {
   "cell_type": "code",
   "execution_count": 6,
   "metadata": {},
   "outputs": [],
   "source": [
    "# Lets put all the tupples inside a single list\n",
    "train_tagged_words = [tup for sentence in train_set for tup in sentence]\n",
    "test_tagged_words = [tup for sentence in test_set for tup in sentence]"
   ]
  },
  {
   "cell_type": "code",
   "execution_count": 7,
   "metadata": {},
   "outputs": [
    {
     "name": "stdout",
     "output_type": "stream",
     "text": [
      "train tupple: ('Reliance', 'NOUN'), test tupple ('The', 'DET')\n",
      "train tupple: ('confirmed', 'VERB'), test tupple ('company', 'NOUN')\n",
      "train tupple: ('the', 'DET'), test tupple ('said', 'VERB')\n",
      "train tupple: ('filing', 'NOUN'), test tupple ('0', 'X')\n",
      "train tupple: ('but', 'CONJ'), test tupple ('it', 'PRON')\n"
     ]
    }
   ],
   "source": [
    "for i, j in zip(train_tagged_words[:5], test_tagged_words[:5]):\n",
    "    print(f\"train tupple: {i}, test tupple {j}\")"
   ]
  },
  {
   "cell_type": "code",
   "execution_count": 8,
   "metadata": {},
   "outputs": [],
   "source": [
    "# Put all the words inside another list\n",
    "tokens = [pair[0] for pair in train_tagged_words]"
   ]
  },
  {
   "cell_type": "code",
   "execution_count": 9,
   "metadata": {},
   "outputs": [
    {
     "name": "stdout",
     "output_type": "stream",
     "text": [
      "number of all words: 12100\n"
     ]
    }
   ],
   "source": [
    "# Create the set, consisting of all the unique words, later it will be used for creating emission and transition matrix\n",
    "V = set(tokens)\n",
    "print(f\"number of all words: {len(V)}\")"
   ]
  },
  {
   "cell_type": "code",
   "execution_count": 10,
   "metadata": {},
   "outputs": [
    {
     "name": "stdout",
     "output_type": "stream",
     "text": [
      "All tagging words are: {'VERB', 'ADJ', 'PRT', 'NOUN', 'X', 'ADV', 'PRON', 'NUM', 'DET', 'CONJ', 'ADP', '.'}\n"
     ]
    }
   ],
   "source": [
    "T = set([pair[1] for pair in train_tagged_words])\n",
    "print(f\"All tagging words are: {T}\")"
   ]
  },
  {
   "cell_type": "markdown",
   "metadata": {},
   "source": [
    "### Build the POS tagger using the Vanilla Viterbi\n",
    "\n",
    "create the probability matrix for emission (between the hidden states and the observations) \n",
    "and transition states (probability of getting the \"verb\" tag if the previous tag is \"Noun\"). \n",
    "Using the probability matrix for both emission and the transition states, we can find the \n",
    "tag based on the maximum probability (given the present word and the tag of the previous word), \n",
    "we can find the most likely tag for the present word.\n",
    "\n",
    "$$P_{state} = \\max(P_{emission} x P_{transition})$$ "
   ]
  },
  {
   "cell_type": "code",
   "execution_count": 11,
   "metadata": {},
   "outputs": [],
   "source": [
    "# Create the numpy array of number of pos tags by total vocabulary\n",
    "t = len(T)\n",
    "v = len(V)\n",
    "w_given_t = np.zeros((t, v))"
   ]
  },
  {
   "cell_type": "code",
   "execution_count": 12,
   "metadata": {},
   "outputs": [],
   "source": [
    "# computing the count of the occurance of the word with a known tag\n",
    "# This function will be used for calculating the emission matrix\n",
    "\n",
    "def word_given_tag(word, tag, train_bag = train_tagged_words):\n",
    "    # count tags\n",
    "    tag_list = [pair for pair in train_bag if pair[1] == tag]\n",
    "    count_tag = len(tag_list)\n",
    "    \n",
    "    # count times the word occured given the tag\n",
    "    w_given_tag_list = [pair[0] for pair in tag_list if pair[0] == word]\n",
    "    count_w_given_tag_list = len(w_given_tag_list)\n",
    "    return (count_w_given_tag_list, count_tag)\n",
    "\n",
    "# computing the counts of tag2 given tag1 occurs in the previous index\n",
    "# function below will be used for calculating the transition matrix\n",
    "\n",
    "def tag2_given_tag1(tag2, tag1, train_bag=train_tagged_words):\n",
    "    tags = [pair[1] for pair in train_bag]\n",
    "    count_tag1 = len([tag for tag in tags if tag == tag1])\n",
    "    count_tag2_given_tag1 = 0\n",
    "    for idx, tag in enumerate(tags[:-1]):\n",
    "        if tag == tag1 and tags[idx+1] == tag2:\n",
    "            count_tag2_given_tag1 += 1\n",
    "    return (count_tag2_given_tag1, count_tag1)"
   ]
  },
  {
   "cell_type": "code",
   "execution_count": 13,
   "metadata": {},
   "outputs": [],
   "source": [
    "# Computing the Transition probability, given the previous tag\n",
    "\n",
    "tags_transition_matrix = np.zeros((len(T), len(T)), dtype='float32')\n",
    "for i, tag1 in enumerate(list(T)):\n",
    "    for j, tag2 in enumerate(list(T)):\n",
    "        result = tag2_given_tag1(tag2, tag1)\n",
    "        tags_transition_matrix[i, j] = result[0]/result[1] "
   ]
  },
  {
   "cell_type": "markdown",
   "metadata": {},
   "source": [
    "tags_transition_matrix[i, j] represents the probability of occurance of $T_{j}$ given $T_{i}$"
   ]
  },
  {
   "cell_type": "code",
   "execution_count": 14,
   "metadata": {},
   "outputs": [
    {
     "data": {
      "text/html": [
       "<div>\n",
       "<style scoped>\n",
       "    .dataframe tbody tr th:only-of-type {\n",
       "        vertical-align: middle;\n",
       "    }\n",
       "\n",
       "    .dataframe tbody tr th {\n",
       "        vertical-align: top;\n",
       "    }\n",
       "\n",
       "    .dataframe thead th {\n",
       "        text-align: right;\n",
       "    }\n",
       "</style>\n",
       "<table border=\"1\" class=\"dataframe\">\n",
       "  <thead>\n",
       "    <tr style=\"text-align: right;\">\n",
       "      <th></th>\n",
       "      <th>VERB</th>\n",
       "      <th>ADJ</th>\n",
       "      <th>PRT</th>\n",
       "      <th>NOUN</th>\n",
       "      <th>X</th>\n",
       "      <th>ADV</th>\n",
       "      <th>PRON</th>\n",
       "      <th>NUM</th>\n",
       "      <th>DET</th>\n",
       "      <th>CONJ</th>\n",
       "      <th>ADP</th>\n",
       "      <th>.</th>\n",
       "    </tr>\n",
       "  </thead>\n",
       "  <tbody>\n",
       "    <tr>\n",
       "      <th>VERB</th>\n",
       "      <td>0.169249</td>\n",
       "      <td>0.064988</td>\n",
       "      <td>0.030674</td>\n",
       "      <td>0.110070</td>\n",
       "      <td>0.217506</td>\n",
       "      <td>0.081952</td>\n",
       "      <td>0.035786</td>\n",
       "      <td>0.022851</td>\n",
       "      <td>0.134392</td>\n",
       "      <td>0.005577</td>\n",
       "      <td>0.092022</td>\n",
       "      <td>0.034934</td>\n",
       "    </tr>\n",
       "    <tr>\n",
       "      <th>ADJ</th>\n",
       "      <td>0.011699</td>\n",
       "      <td>0.066403</td>\n",
       "      <td>0.010710</td>\n",
       "      <td>0.699621</td>\n",
       "      <td>0.021091</td>\n",
       "      <td>0.004778</td>\n",
       "      <td>0.000330</td>\n",
       "      <td>0.021256</td>\n",
       "      <td>0.004943</td>\n",
       "      <td>0.016971</td>\n",
       "      <td>0.078267</td>\n",
       "      <td>0.063931</td>\n",
       "    </tr>\n",
       "    <tr>\n",
       "      <th>PRT</th>\n",
       "      <td>0.405272</td>\n",
       "      <td>0.083031</td>\n",
       "      <td>0.001647</td>\n",
       "      <td>0.247776</td>\n",
       "      <td>0.013509</td>\n",
       "      <td>0.010214</td>\n",
       "      <td>0.017792</td>\n",
       "      <td>0.056672</td>\n",
       "      <td>0.097858</td>\n",
       "      <td>0.002306</td>\n",
       "      <td>0.020099</td>\n",
       "      <td>0.043822</td>\n",
       "    </tr>\n",
       "    <tr>\n",
       "      <th>NOUN</th>\n",
       "      <td>0.147667</td>\n",
       "      <td>0.012248</td>\n",
       "      <td>0.043397</td>\n",
       "      <td>0.263564</td>\n",
       "      <td>0.029175</td>\n",
       "      <td>0.017074</td>\n",
       "      <td>0.004607</td>\n",
       "      <td>0.009542</td>\n",
       "      <td>0.012942</td>\n",
       "      <td>0.042666</td>\n",
       "      <td>0.176514</td>\n",
       "      <td>0.240604</td>\n",
       "    </tr>\n",
       "    <tr>\n",
       "      <th>X</th>\n",
       "      <td>0.203851</td>\n",
       "      <td>0.017187</td>\n",
       "      <td>0.185232</td>\n",
       "      <td>0.062381</td>\n",
       "      <td>0.076384</td>\n",
       "      <td>0.024984</td>\n",
       "      <td>0.055538</td>\n",
       "      <td>0.002864</td>\n",
       "      <td>0.054742</td>\n",
       "      <td>0.010662</td>\n",
       "      <td>0.142584</td>\n",
       "      <td>0.163590</td>\n",
       "    </tr>\n",
       "    <tr>\n",
       "      <th>ADV</th>\n",
       "      <td>0.343491</td>\n",
       "      <td>0.129182</td>\n",
       "      <td>0.014243</td>\n",
       "      <td>0.031467</td>\n",
       "      <td>0.023186</td>\n",
       "      <td>0.080490</td>\n",
       "      <td>0.014906</td>\n",
       "      <td>0.030474</td>\n",
       "      <td>0.069891</td>\n",
       "      <td>0.006956</td>\n",
       "      <td>0.118582</td>\n",
       "      <td>0.137131</td>\n",
       "    </tr>\n",
       "    <tr>\n",
       "      <th>PRON</th>\n",
       "      <td>0.485452</td>\n",
       "      <td>0.073124</td>\n",
       "      <td>0.013017</td>\n",
       "      <td>0.210949</td>\n",
       "      <td>0.089969</td>\n",
       "      <td>0.034074</td>\n",
       "      <td>0.007657</td>\n",
       "      <td>0.006508</td>\n",
       "      <td>0.009954</td>\n",
       "      <td>0.005360</td>\n",
       "      <td>0.022971</td>\n",
       "      <td>0.040965</td>\n",
       "    </tr>\n",
       "    <tr>\n",
       "      <th>NUM</th>\n",
       "      <td>0.018761</td>\n",
       "      <td>0.034247</td>\n",
       "      <td>0.026504</td>\n",
       "      <td>0.350208</td>\n",
       "      <td>0.210542</td>\n",
       "      <td>0.002978</td>\n",
       "      <td>0.001489</td>\n",
       "      <td>0.184932</td>\n",
       "      <td>0.003276</td>\n",
       "      <td>0.013699</td>\n",
       "      <td>0.036033</td>\n",
       "      <td>0.117332</td>\n",
       "    </tr>\n",
       "    <tr>\n",
       "      <th>DET</th>\n",
       "      <td>0.039850</td>\n",
       "      <td>0.204323</td>\n",
       "      <td>0.000242</td>\n",
       "      <td>0.638087</td>\n",
       "      <td>0.045405</td>\n",
       "      <td>0.012438</td>\n",
       "      <td>0.003744</td>\n",
       "      <td>0.022220</td>\n",
       "      <td>0.005676</td>\n",
       "      <td>0.000483</td>\n",
       "      <td>0.009540</td>\n",
       "      <td>0.017993</td>\n",
       "    </tr>\n",
       "    <tr>\n",
       "      <th>CONJ</th>\n",
       "      <td>0.156671</td>\n",
       "      <td>0.118085</td>\n",
       "      <td>0.004649</td>\n",
       "      <td>0.349140</td>\n",
       "      <td>0.008833</td>\n",
       "      <td>0.055323</td>\n",
       "      <td>0.058113</td>\n",
       "      <td>0.039981</td>\n",
       "      <td>0.121339</td>\n",
       "      <td>0.000465</td>\n",
       "      <td>0.052534</td>\n",
       "      <td>0.034868</td>\n",
       "    </tr>\n",
       "    <tr>\n",
       "      <th>ADP</th>\n",
       "      <td>0.008340</td>\n",
       "      <td>0.107024</td>\n",
       "      <td>0.001390</td>\n",
       "      <td>0.320967</td>\n",
       "      <td>0.034427</td>\n",
       "      <td>0.014006</td>\n",
       "      <td>0.070031</td>\n",
       "      <td>0.062226</td>\n",
       "      <td>0.324709</td>\n",
       "      <td>0.000962</td>\n",
       "      <td>0.016893</td>\n",
       "      <td>0.039025</td>\n",
       "    </tr>\n",
       "    <tr>\n",
       "      <th>.</th>\n",
       "      <td>0.089095</td>\n",
       "      <td>0.043963</td>\n",
       "      <td>0.002427</td>\n",
       "      <td>0.222242</td>\n",
       "      <td>0.026971</td>\n",
       "      <td>0.052324</td>\n",
       "      <td>0.066349</td>\n",
       "      <td>0.081003</td>\n",
       "      <td>0.173335</td>\n",
       "      <td>0.057538</td>\n",
       "      <td>0.091342</td>\n",
       "      <td>0.093320</td>\n",
       "    </tr>\n",
       "  </tbody>\n",
       "</table>\n",
       "</div>"
      ],
      "text/plain": [
       "          VERB       ADJ       PRT      NOUN         X       ADV      PRON  \\\n",
       "VERB  0.169249  0.064988  0.030674  0.110070  0.217506  0.081952  0.035786   \n",
       "ADJ   0.011699  0.066403  0.010710  0.699621  0.021091  0.004778  0.000330   \n",
       "PRT   0.405272  0.083031  0.001647  0.247776  0.013509  0.010214  0.017792   \n",
       "NOUN  0.147667  0.012248  0.043397  0.263564  0.029175  0.017074  0.004607   \n",
       "X     0.203851  0.017187  0.185232  0.062381  0.076384  0.024984  0.055538   \n",
       "ADV   0.343491  0.129182  0.014243  0.031467  0.023186  0.080490  0.014906   \n",
       "PRON  0.485452  0.073124  0.013017  0.210949  0.089969  0.034074  0.007657   \n",
       "NUM   0.018761  0.034247  0.026504  0.350208  0.210542  0.002978  0.001489   \n",
       "DET   0.039850  0.204323  0.000242  0.638087  0.045405  0.012438  0.003744   \n",
       "CONJ  0.156671  0.118085  0.004649  0.349140  0.008833  0.055323  0.058113   \n",
       "ADP   0.008340  0.107024  0.001390  0.320967  0.034427  0.014006  0.070031   \n",
       ".     0.089095  0.043963  0.002427  0.222242  0.026971  0.052324  0.066349   \n",
       "\n",
       "           NUM       DET      CONJ       ADP         .  \n",
       "VERB  0.022851  0.134392  0.005577  0.092022  0.034934  \n",
       "ADJ   0.021256  0.004943  0.016971  0.078267  0.063931  \n",
       "PRT   0.056672  0.097858  0.002306  0.020099  0.043822  \n",
       "NOUN  0.009542  0.012942  0.042666  0.176514  0.240604  \n",
       "X     0.002864  0.054742  0.010662  0.142584  0.163590  \n",
       "ADV   0.030474  0.069891  0.006956  0.118582  0.137131  \n",
       "PRON  0.006508  0.009954  0.005360  0.022971  0.040965  \n",
       "NUM   0.184932  0.003276  0.013699  0.036033  0.117332  \n",
       "DET   0.022220  0.005676  0.000483  0.009540  0.017993  \n",
       "CONJ  0.039981  0.121339  0.000465  0.052534  0.034868  \n",
       "ADP   0.062226  0.324709  0.000962  0.016893  0.039025  \n",
       ".     0.081003  0.173335  0.057538  0.091342  0.093320  "
      ]
     },
     "execution_count": 14,
     "metadata": {},
     "output_type": "execute_result"
    }
   ],
   "source": [
    "tags_transition_df = pd.DataFrame(tags_transition_matrix, columns=list(T), index=list(T))\n",
    "tags_transition_df"
   ]
  },
  {
   "cell_type": "code",
   "execution_count": 15,
   "metadata": {},
   "outputs": [
    {
     "data": {
      "image/png": "[encoded data removed]",
      "text/plain": [
       "<Figure size 1152x720 with 2 Axes>"
      ]
     },
     "metadata": {
      "needs_background": "light"
     },
     "output_type": "display_data"
    }
   ],
   "source": [
    "# Lets look at the heatmap of the matrix\n",
    "plt.figure(figsize=(16, 10))\n",
    "sns.heatmap(tags_transition_df)\n",
    "plt.show()"
   ]
  },
  {
   "cell_type": "markdown",
   "metadata": {},
   "source": [
    "Above heat map clearly shows correlation between the occurance of nouns, adjectives and the determinant"
   ]
  },
  {
   "cell_type": "code",
   "execution_count": 16,
   "metadata": {},
   "outputs": [],
   "source": [
    "# Viterbi Heuristic\n",
    "def viterbi_model(words, train_bag=train_tagged_words):\n",
    "    state=[]\n",
    "    T=list(set([pair[1] for pair in train_bag]))\n",
    "    for idx, word in enumerate(words):\n",
    "        # initialize list of probability column for a given observation\n",
    "        p=[]\n",
    "        for tag in T:\n",
    "            if idx==0:\n",
    "                transition_p=tags_transition_df.loc['.', tag]\n",
    "            else:\n",
    "                transition_p=tags_transition_df.loc[state[-1], tag]\n",
    "            \n",
    "            emission_count_word = word_given_tag(words[idx], tag)[0]\n",
    "            emission_count_tag = word_given_tag(words[idx], tag)[1]\n",
    "            emission_p = emission_count_word/emission_count_tag\n",
    "            \n",
    "            state_p = emission_p * transition_p\n",
    "            p.append(state_p)\n",
    "        p_max = max(p)\n",
    "        state_with_max_p = T[p.index(p_max)]\n",
    "        state.append(state_with_max_p)\n",
    "    return list(zip(words, state))"
   ]
  },
  {
   "cell_type": "code",
   "execution_count": 17,
   "metadata": {},
   "outputs": [
    {
     "name": "stdout",
     "output_type": "stream",
     "text": [
      "time taken for algorithm: 945.066840171814\n"
     ]
    }
   ],
   "source": [
    "# test the algorithm on a few sample of sentences of test dataset\n",
    "\n",
    "test_run_base = [tup for sent in test_set for tup in sent]\n",
    "test_tagged_words = [tup[0] for sent in test_set for tup in sent]\n",
    "\n",
    "start = time.time()\n",
    "tagged_seq = viterbi_model(test_tagged_words)\n",
    "end = time.time()\n",
    "\n",
    "print(f\"time taken for algorithm: {end-start}\")"
   ]
  },
  {
   "cell_type": "code",
   "execution_count": 18,
   "metadata": {},
   "outputs": [
    {
     "name": "stdout",
     "output_type": "stream",
     "text": [
      "0.9212322090076038\n"
     ]
    }
   ],
   "source": [
    "# Calculate the accuracy of the model\n",
    "check = [i for i, j in zip(tagged_seq, test_run_base) if i == j]\n",
    "accuracy = len(check)/len(tagged_seq)\n",
    "print(accuracy)"
   ]
  },
  {
   "cell_type": "code",
   "execution_count": 38,
   "metadata": {},
   "outputs": [],
   "source": [
    "# Lets evaluate the algorithm using the precision, recall and F1 score\n",
    "# Lets plot the heatmap of the confusion matrix\n",
    "tags = tags_transition_df.columns\n",
    "confusion_matrix = np.zeros((len(tags), len(tags)))\n",
    "for i, tag1 in enumerate(tags): ## predicted tag\n",
    "    for j, tag2 in enumerate(tags): ## actual tag\n",
    "        check = [k for k in range(len(tagged_seq)) if test_run_base[k][1] == tag1 and tagged_seq[k][1] == tag2]\n",
    "        #all_tags = [k for k in range(len(test_run_base)) if test_run_base[k][1] == tag1]\n",
    "        confusion_matrix[i, j] = len(check) #/ len(all_tags)    "
   ]
  },
  {
   "cell_type": "code",
   "execution_count": 53,
   "metadata": {},
   "outputs": [
    {
     "data": {
      "image/png": "[encoded data removed]",
      "text/plain": [
       "<Figure size 1152x720 with 2 Axes>"
      ]
     },
     "metadata": {
      "needs_background": "light"
     },
     "output_type": "display_data"
    }
   ],
   "source": [
    "ind_list = [\"Pred_\" + tag for tag in tags]\n",
    "col_list = [\"Actual_\" + tag for tag in tags]\n",
    "\n",
    "confusion_df = pd.DataFrame(confusion_matrix, columns=col_list, index=ind_list)\n",
    "# Lets look at the heatmap of the matrix\n",
    "plt.figure(figsize=(16, 10))\n",
    "sns.heatmap(confusion_df, annot=True)\n",
    "plt.show()"
   ]
  },
  {
   "cell_type": "code",
   "execution_count": 49,
   "metadata": {},
   "outputs": [
    {
     "name": "stdout",
     "output_type": "stream",
     "text": [
      "VERB, Precision: 0.69, recall: 0.96, F1 score: 0.81\n",
      "ADJ , Precision: 0.87, recall: 0.77, F1 score: 0.81\n",
      "PRT , Precision: 0.97, recall: 0.96, F1 score: 0.96\n",
      "NOUN, Precision: 0.98, recall: 0.86, F1 score: 0.92\n",
      "X   , Precision: 1.0, recall: 0.95, F1 score: 0.98\n",
      "ADV , Precision: 0.86, recall: 0.88, F1 score: 0.87\n",
      "PRON, Precision: 1.0, recall: 1.0, F1 score: 1.0\n",
      "NUM , Precision: 1.0, recall: 0.84, F1 score: 0.91\n",
      "DET , Precision: 0.99, recall: 0.96, F1 score: 0.98\n",
      "CONJ, Precision: 0.98, recall: 0.99, F1 score: 0.99\n",
      "ADP , Precision: 0.95, recall: 0.99, F1 score: 0.97\n",
      ".   , Precision: 1.0, recall: 1.0, F1 score: 1.0\n"
     ]
    }
   ],
   "source": [
    "# Lets calculate the precision and the recall for the algorithm\n",
    "results_precision = dict()\n",
    "results_recall = dict()\n",
    "results_F1_score = dict()\n",
    "for i in range(confusion_matrix.shape[0]):\n",
    "    val = round(confusion_matrix[i, i], 2)\n",
    "    results_precision[tags[i]] = val/sum(confusion_matrix[:, i])\n",
    "    results_recall[tags[i]] = val/sum(confusion_matrix[i, :])\n",
    "    results_F1_score[tags[i]] = 2 * results_precision[tags[i]] * results_recall[tags[i]] / (results_precision[tags[i]] + results_recall[tags[i]])\n",
    "    \n",
    "for tag in tags:\n",
    "    precison = round(results_precision[tag], 2)\n",
    "    recall = round(results_recall[tag], 2)\n",
    "    F1_score = round(results_F1_score[tag], 2)\n",
    "    print(f\"{tag:4}, Precision: {precison:3}, recall: {recall:3}, F1 score: {F1_score:3}\")"
   ]
  },
  {
   "cell_type": "markdown",
   "metadata": {},
   "source": [
    "We can clearly see that the algorithm is finding it difficult to classify the verb, adjectives and adverb"
   ]
  },
  {
   "cell_type": "code",
   "execution_count": null,
   "metadata": {},
   "outputs": [],
   "source": []
  }
 ],
 "metadata": {
  "kernelspec": {
   "display_name": "Python 3",
   "language": "python",
   "name": "python3"
  },
  "language_info": {
   "codemirror_mode": {
    "name": "ipython",
    "version": 3
   },
   "file_extension": ".py",
   "mimetype": "text/x-python",
   "name": "python",
   "nbconvert_exporter": "python",
   "pygments_lexer": "ipython3",
   "version": "3.8.5"
  }
 },
 "nbformat": 4,
 "nbformat_minor": 4
}
